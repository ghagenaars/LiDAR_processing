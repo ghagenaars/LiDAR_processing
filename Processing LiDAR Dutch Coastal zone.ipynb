{
 "cells": [
  {
   "cell_type": "markdown",
   "metadata": {},
   "source": [
    "# Downloading the LiDAR data of the Dutch coast\n",
    "This notebook gives a toturial of downloanding LiDAR data for the Dutch coast."
   ]
  },
  {
   "cell_type": "code",
   "execution_count": 1,
   "metadata": {
    "collapsed": true
   },
   "outputs": [],
   "source": [
    "# Import packages\n",
    "import logging\n",
    "import json\n",
    "import os\n",
    "import urlparse\n",
    "\n",
    "logging.root.setLevel(logging.DEBUG)\n",
    "\n",
    "# computing\n",
    "import numpy as np\n",
    "\n",
    "#plotting\n",
    "import matplotlib.pyplot as plt\n",
    "%matplotlib inline\n",
    "\n",
    "# for spatial types\n",
    "import owslib.wfs\n",
    "import owslib.wms\n",
    "# for spatial operations\n",
    "import shapely.geometry\n",
    "from matplotlib import collections\n",
    "\n",
    "# for pointclouds\n",
    "import liblas\n",
    "from liblas import file\n",
    "\n",
    "# numpy compatible, uncompressed only for now\n",
    "import laspy.file\n",
    "# for downloading\n",
    "import requests\n",
    "#  for xml parsing\n",
    "import lxml.etree\n",
    "import mako\n",
    "\n",
    "# for aerial photo saturation\n",
    "import skimage as ski\n",
    "import gdal\n",
    "\n",
    "os.environ[\"LD_LIBRARY_PATH\"] = \"/usr/local/lib\""
   ]
  },
  {
   "cell_type": "code",
   "execution_count": 2,
   "metadata": {
    "collapsed": false
   },
   "outputs": [
    {
     "name": "stderr",
     "output_type": "stream",
     "text": [
      "DEBUG:owslib:building WFS http://geodata.nationaalgeoregister.nl/ahn2/wfs\n",
      "INFO:requests.packages.urllib3.connectionpool:Starting new HTTP connection (1): geodata.nationaalgeoregister.nl\n",
      "DEBUG:requests.packages.urllib3.connectionpool:\"GET /ahn2/wfs?service=WFS&request=GetCapabilities&version=2.0.0 HTTP/1.1\" 200 5817\n",
      "DEBUG:owslib:building WFS http://geodata.nationaalgeoregister.nl/ahn2/wfs\n",
      "INFO:requests.packages.urllib3.connectionpool:Starting new HTTP connection (1): geodata.nationaalgeoregister.nl\n",
      "DEBUG:requests.packages.urllib3.connectionpool:\"GET /ahn2/wfs?service=WFS&request=GetCapabilities&version=2.0.0 HTTP/1.1\" 200 5817\n",
      "DEBUG:owslib:GetFeature WFS GET url http://geodata.nationaalgeoregister.nl/ahn2/wfs?typename=ahn2%3Aahn2_bladindex&outputFormat=json&version=2.0.0&request=GetFeature&service=WFS\n",
      "INFO:requests.packages.urllib3.connectionpool:Starting new HTTP connection (1): geodata.nationaalgeoregister.nl\n",
      "DEBUG:requests.packages.urllib3.connectionpool:\"GET /ahn2/wfs?typename=ahn2%3Aahn2_bladindex&outputFormat=json&version=2.0.0&request=GetFeature&service=WFS HTTP/1.1\" 200 None\n"
     ]
    }
   ],
   "source": [
    "# Enter WFS properties\n",
    "wfsurl = 'http://geodata.nationaalgeoregister.nl/ahn2/wfs'\n",
    "wfs = owslib.wfs.WebFeatureService(wfsurl, version=\"2.0.0\")\n",
    "wfslayer = wfs.contents['ahn2:ahn2_bladindex']\n",
    "\n",
    "# Get boxes from WFS\n",
    "f = wfs.getfeature(typename=[wfslayer.id], outputFormat=\"json\")\n",
    "data = json.load(f)  # Coordinate system, 5 coordinates per polygon, bladnr\n",
    "\n",
    "shapes = []\n",
    "tiles = []\n",
    "\n",
    "# create a list of tiles and shapes\n",
    "for feature in data['features']:\n",
    "    shapes.append(shapely.geometry.asShape(feature['geometry'])[0])\n",
    "    tiles.append(shapes[-1].exterior.coords[:])"
   ]
  },
  {
   "cell_type": "markdown",
   "metadata": {},
   "source": [
    "The coordinates are in the Dutch RijksDriehoekstelsel."
   ]
  },
  {
   "cell_type": "code",
   "execution_count": 3,
   "metadata": {
    "collapsed": true
   },
   "outputs": [],
   "source": [
    "# Referencing\n",
    "import osgeo.osr\n",
    "wgs84 = osgeo.osr.SpatialReference()\n",
    "wgs84.ImportFromEPSG(4326)\n",
    "rd = osgeo.osr.SpatialReference()\n",
    "rd.ImportFromEPSG(28992)\n",
    "wgs842rd = osgeo.osr.CoordinateTransformation(wgs84, rd)"
   ]
  },
  {
   "cell_type": "markdown",
   "metadata": {},
   "source": [
    "The Dutch coast is arbitrarely choosen as a polygon. All tiles inside this polygon cover at least some part of the coast."
   ]
  },
  {
   "cell_type": "code",
   "execution_count": 4,
   "metadata": {
    "collapsed": false,
    "scrolled": false
   },
   "outputs": [
    {
     "name": "stdout",
     "output_type": "stream",
     "text": [
      "total of  213\n",
      "[u'02ez1', u'02ez2', u'02fz1', u'02fz2', u'03dz1', u'01gn2', u'01hn1', u'01hn2', u'02cn1', u'02cn2', u'02dn1', u'02gn1', u'02gn2', u'02hn1', u'02hn2', u'03dn1', u'03dn2', u'03gn1', u'03gn2', u'03hn1', u'01cz2', u'01dz1', u'01dz2', u'01gz1', u'01gz2', u'01hz1', u'01hz2', u'02cz1', u'02cz2', u'02dz1', u'02dz2', u'02gz1', u'02gz2', u'02hz1', u'02hz2', u'03cz1', u'03cz2', u'03dz2', u'03gz1', u'03gz2', u'04fn2', u'05an1', u'05an2', u'05bn1', u'05fn1', u'05fn2', u'06an1', u'06an2', u'06bn1', u'06bn2', u'06en1', u'06en2', u'06fn1', u'06fn2', u'07an1', u'07an2', u'04ez2', u'04fz1', u'04fz2', u'05ez2', u'05fz1', u'05fz2', u'06az1', u'06az2', u'06bz1', u'06bz2', u'06ez1', u'04dn2', u'04gn1', u'04gn2', u'05dn2', u'05gn1', u'05gn2', u'05hn1', u'05hn2', u'06cn1', u'04dz2', u'04gz1', u'05dz2', u'05gz1', u'09bn1', u'09bn2', u'09en1', u'10bn1', u'10bn2', u'09az2', u'09bz1', u'09bz2', u'09ez1', u'10az2', u'10bz1', u'09cn2', u'09dn1', u'09dn2', u'09hn2', u'10cn1', u'09cz2', u'09dz1', u'09dz2', u'09hz1', u'14an2', u'14bn1', u'14bn2', u'14en1', u'14en2', u'14az2', u'14bz1', u'14bz2', u'14ez1', u'14cn2', u'14dn1', u'14dn2', u'14cz1', u'14cz2', u'14dz1', u'19an1', u'19an2', u'19bn1', u'19az1', u'19az2', u'19bz1', u'19cn1', u'19cn2', u'19cz1', u'19cz2', u'24fn2', u'25an1', u'25an2', u'24fz2', u'25az1', u'24hn1', u'24hn2', u'25cn1', u'24hz1', u'24hz2', u'25cz1', u'30en2', u'30fn1', u'30fn2', u'30ez1', u'30ez2', u'30fz1', u'30dn2', u'30gn1', u'30gn2', u'30hn1', u'30dz1', u'30dz2', u'30gz1', u'30gz2', u'37an1', u'37an2', u'37bn1', u'37bn2', u'37en1', u'36fz2', u'37az1', u'37az2', u'37bz1', u'37bz2', u'36hn2', u'37cn1', u'37cn2', u'37dn1', u'64en2', u'64fn1', u'64fn2', u'37cz1', u'37cz2', u'64ez2', u'64fz1', u'64fz2', u'43an1', u'64dn2', u'64gn1', u'64gn2', u'64hn1', u'64hn2', u'64dz2', u'64gz1', u'64gz2', u'64hz1', u'65an1', u'65an2', u'65bn1', u'65bn2', u'65en1', u'65en2', u'70fz2', u'65az1', u'65az2', u'65bz1', u'65bz2', u'65ez1', u'65cn1', u'65cn2', u'65dn1', u'65dn2', u'65cz1', u'65cz2', u'65dz1', u'66fn1', u'66fn2', u'67an1', u'67an2', u'66fz1', u'66fz2', u'67az1', u'66hn1', u'66hn2', u'03az1', u'09gz2', u'72hz2']\n"
     ]
    },
    {
     "data": {
      "image/png": "[encoded data removed]",
      "text/plain": [
       "<matplotlib.figure.Figure at 0x7f03e8dfe3d0>"
      ]
     },
     "metadata": {},
     "output_type": "display_data"
    }
   ],
   "source": [
    "#Finding tiles of coast\n",
    "\n",
    "# Coast bounding box coordinates\n",
    "lat = [51.37, 53.39, 53.64, 53.47, 53.23, 52.83, 52.25, 51.22, 51.37]  # closed ring, last = first\n",
    "lon = [3.05, 4.85, 6.43, 7.04, 5.54, 4.82, 4.56, 3.37, 3.05]\n",
    "\n",
    "coords = []\n",
    "for i in range(len(lat)):\n",
    "    x, y, _ = wgs842rd.TransformPoint(lon[i], lat[i])\n",
    "    coords.append((x, y))\n",
    "\n",
    "polygon = shapely.geometry.Polygon(coords)\n",
    "x_poly, y_poly = polygon.exterior.xy\n",
    "\n",
    "coastal_tiles = []\n",
    "for j in range(len(tiles)):\n",
    "    x_min = tiles[j][0][0]\n",
    "    y_min = tiles[j][0][1]\n",
    "    p = shapely.geometry.Point(x_min, y_min)\n",
    "    \n",
    "    if p.within(polygon):\n",
    "        bladnr = data['features'][j]['properties']['bladnr']\n",
    "        if bladnr not in coastal_tiles:\n",
    "            coastal_tiles.append(bladnr)\n",
    "\n",
    "print 'total of ', len(coastal_tiles)\n",
    "print coastal_tiles\n",
    "\n",
    "# Plot coastal zone using a collection\n",
    "col = collections.LineCollection(tiles, colors='k')\n",
    "fig, ax  = plt.subplots()\n",
    "fig.set_size_inches(10, 10)\n",
    "fig.patch.set_facecolor('white')\n",
    "ax.add_collection(col, autolim=True)\n",
    "ax.set_aspect('equal')\n",
    "ax.autoscale_view()\n",
    "\n",
    "plt.fill(x_poly, y_poly, color='yellow', label='no. of boxes: ' + str(len(coastal_tiles)))\n",
    "plt.title('Coastal Polygon')\n",
    "plt.legend(loc='best');"
   ]
  }
 ],
 "metadata": {
  "kernelspec": {
   "display_name": "Python 2",
   "language": "python",
   "name": "python2"
  },
  "language_info": {
   "codemirror_mode": {
    "name": "ipython",
    "version": 2
   },
   "file_extension": ".py",
   "mimetype": "text/x-python",
   "name": "python",
   "nbconvert_exporter": "python",
   "pygments_lexer": "ipython2",
   "version": "2.7.6"
  }
 },
 "nbformat": 4,
 "nbformat_minor": 0
}
